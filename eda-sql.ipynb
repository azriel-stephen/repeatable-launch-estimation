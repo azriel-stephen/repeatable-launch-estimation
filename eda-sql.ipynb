{
    "cells": [
        {
            "cell_type": "markdown",
            "metadata": {},
            "source": "<center>\n    <img src=\"https://gitlab.com/ibm/skills-network/courses/placeholder101/-/raw/master/labs/module%201/images/IDSNlogo.png\"  width=\"300\" alt=\"cognitiveclass.ai logo\"  />\n</center>\n\n<h1 align=center><font size = 5>Assignment: SQL Notebook for Peer Assignment</font></h1>\n\nEstimated time needed: **60** minutes.\n\n## Introduction\n\nUsing this Python notebook you will:\n\n1.  Understand the Spacex DataSet\n2.  Load the dataset  into the corresponding table in a Db2 database\n3.  Execute SQL queries to answer assignment questions\n"
        },
        {
            "cell_type": "markdown",
            "metadata": {},
            "source": "## Overview of the DataSet\n\nSpaceX has gained worldwide attention for a series of historic milestones.\n\nIt is the only private company ever to return a spacecraft from low-earth orbit, which it first accomplished in December 2010.\nSpaceX advertises Falcon 9 rocket launches on its website with a cost of 62 million dollars wheras other providers cost upward of 165 million dollars each, much of the savings is because Space X can reuse the first stage.\n\nTherefore if we can determine if the first stage will land, we can determine the cost of a launch.\n\nThis information can be used if an alternate company wants to bid against SpaceX for a rocket launch.\n\nThis dataset includes a record for each payload carried during a SpaceX mission into outer space.\n"
        },
        {
            "cell_type": "markdown",
            "metadata": {},
            "source": "### Download the datasets\n\nThis assignment requires you to load the spacex dataset.\n\nIn many cases the dataset to be analyzed is available as a .CSV (comma separated values) file, perhaps on the internet. Click on the link below to download and save the dataset (.CSV file):\n\n<a href=\"https://cf-courses-data.s3.us.cloud-object-storage.appdomain.cloud/IBM-DS0321EN-SkillsNetwork/labs/module_2/data/Spacex.csv?utm_medium=Exinfluencer&utm_source=Exinfluencer&utm_content=000026UJ&utm_term=10006555&utm_id=NA-SkillsNetwork-Channel-SkillsNetworkCoursesIBMDS0321ENSkillsNetwork26802033-2021-01-01\" target=\"_blank\">Spacex DataSet</a>\n"
        },
        {
            "cell_type": "markdown",
            "metadata": {},
            "source": "### Store the dataset in database table\n\n**it is highly recommended to manually load the table using the database console LOAD tool in DB2**.\n\n<img src = \"https://cf-courses-data.s3.us.cloud-object-storage.appdomain.cloud/IBM-DS0321EN-SkillsNetwork/labs/module_2/images/spacexload.png\">\n\nNow open the Db2 console, open the LOAD tool, Select / Drag the .CSV file for the  dataset, Next create a New Table, and then follow the steps on-screen instructions to load the data. Name the new table as follows:\n\n**SPACEXDATASET**\n\n**Follow these steps while using old DB2 UI which is having Open Console Screen**\n\n**Note:While loading Spacex dataset, ensure that detect datatypes is disabled. Later click on the pencil icon(edit option).**\n\n1.  Change the Date Format by manually typing DD-MM-YYYY and timestamp format as DD-MM-YYYY HH\\:MM:SS.\n\n    Here you should place the cursor at Date field and manually type as DD-MM-YYYY.\n\n2.  Change the PAYLOAD_MASS\\_\\_KG\\_  datatype  to INTEGER.\n\n<img src = \"https://cf-courses-data.s3.us.cloud-object-storage.appdomain.cloud/IBM-DS0321EN-SkillsNetwork/labs/module_2/images/spacexload2.png\">\n"
        },
        {
            "cell_type": "markdown",
            "metadata": {},
            "source": "**Changes to be considered when having DB2 instance with the new UI having Go to UI screen**\n\n*   Refer to this insruction in this <a href=\"https://cf-courses-data.s3.us.cloud-object-storage.appdomain.cloud/IBMDeveloperSkillsNetwork-DB0201EN-SkillsNetwork/labs/Labs_Coursera_V5/labs/Lab%20-%20Sign%20up%20for%20IBM%20Cloud%20-%20Create%20Db2%20service%20instance%20-%20Get%20started%20with%20the%20Db2%20console/instructional-labs.md.html?utm_medium=Exinfluencer&utm_source=Exinfluencer&utm_content=000026UJ&utm_term=10006555&utm_id=NA-SkillsNetwork-Channel-SkillsNetworkCoursesIBMDS0321ENSkillsNetwork26802033-2021-01-01\">link</a> for viewing  the new  Go to UI screen.\n\n*   Later click on **Data link(below SQL)**  in the Go to UI screen  and click on **Load Data** tab.\n\n*   Later browse for the downloaded spacex file.\n\n<img src=\"https://cf-courses-data.s3.us.cloud-object-storage.appdomain.cloud/IBM-DS0321EN-SkillsNetwork/labs/module_2/images/browsefile.png\" width=\"800\"/>\n\n*   Once done select the schema andload the file.\n\n <img src=\"https://cf-courses-data.s3.us.cloud-object-storage.appdomain.cloud/IBM-DS0321EN-SkillsNetwork/labs/module_2/images/spacexload3.png\" width=\"800\"/>\n"
        },
        {
            "cell_type": "code",
            "execution_count": 11,
            "metadata": {},
            "outputs": [
                {
                    "name": "stdout",
                    "output_type": "stream",
                    "text": "/opt/conda/envs/Python-3.7-OpenCE/lib/python3.7/site-packages/secretstorage/dhcrypto.py:16: CryptographyDeprecationWarning: int_from_bytes is deprecated, use int.from_bytes instead\n  from cryptography.utils import int_from_bytes\n/opt/conda/envs/Python-3.7-OpenCE/lib/python3.7/site-packages/secretstorage/util.py:25: CryptographyDeprecationWarning: int_from_bytes is deprecated, use int.from_bytes instead\n  from cryptography.utils import int_from_bytes\nCollecting sqlalchemy==1.4.22\n  Downloading SQLAlchemy-1.4.22-cp37-cp37m-manylinux_2_5_x86_64.manylinux1_x86_64.manylinux_2_17_x86_64.manylinux2014_x86_64.whl (1.6 MB)\n\u001b[K     |\u2588\u2588\u2588\u2588\u2588\u2588\u2588\u2588\u2588\u2588\u2588\u2588\u2588\u2588\u2588\u2588\u2588\u2588\u2588\u2588\u2588\u2588\u2588\u2588\u2588\u2588\u2588\u2588\u2588\u2588\u2588\u2588| 1.6 MB 18.0 MB/s eta 0:00:01\n\u001b[?25hRequirement already satisfied: importlib-metadata; python_version < \"3.8\" in /opt/conda/envs/Python-3.7-OpenCE/lib/python3.7/site-packages (from sqlalchemy==1.4.22) (1.6.1)\nRequirement already satisfied: greenlet!=0.4.17; python_version >= \"3\" in /opt/conda/envs/Python-3.7-OpenCE/lib/python3.7/site-packages (from sqlalchemy==1.4.22) (1.1.1)\nRequirement already satisfied: zipp>=0.5 in /opt/conda/envs/Python-3.7-OpenCE/lib/python3.7/site-packages (from importlib-metadata; python_version < \"3.8\"->sqlalchemy==1.4.22) (3.1.0)\nInstalling collected packages: sqlalchemy\n  Attempting uninstall: sqlalchemy\n    Found existing installation: SQLAlchemy 1.3.9\n    Uninstalling SQLAlchemy-1.3.9:\n      Successfully uninstalled SQLAlchemy-1.3.9\nSuccessfully installed sqlalchemy-1.4.22\n/opt/conda/envs/Python-3.7-OpenCE/lib/python3.7/site-packages/secretstorage/dhcrypto.py:16: CryptographyDeprecationWarning: int_from_bytes is deprecated, use int.from_bytes instead\n  from cryptography.utils import int_from_bytes\n/opt/conda/envs/Python-3.7-OpenCE/lib/python3.7/site-packages/secretstorage/util.py:25: CryptographyDeprecationWarning: int_from_bytes is deprecated, use int.from_bytes instead\n  from cryptography.utils import int_from_bytes\nRequirement already satisfied: ibm_db_sa in /opt/conda/envs/Python-3.7-OpenCE/lib/python3.7/site-packages (0.3.7)\nRequirement already satisfied: sqlalchemy>=0.7.3 in /opt/conda/envs/Python-3.7-OpenCE/lib/python3.7/site-packages (from ibm_db_sa) (1.4.22)\nRequirement already satisfied: ibm-db>=2.0.0 in /opt/conda/envs/Python-3.7-OpenCE/lib/python3.7/site-packages (from ibm_db_sa) (3.0.4)\nRequirement already satisfied: importlib-metadata; python_version < \"3.8\" in /opt/conda/envs/Python-3.7-OpenCE/lib/python3.7/site-packages (from sqlalchemy>=0.7.3->ibm_db_sa) (1.6.1)\nRequirement already satisfied: greenlet!=0.4.17; python_version >= \"3\" in /opt/conda/envs/Python-3.7-OpenCE/lib/python3.7/site-packages (from sqlalchemy>=0.7.3->ibm_db_sa) (1.1.1)\nRequirement already satisfied: zipp>=0.5 in /opt/conda/envs/Python-3.7-OpenCE/lib/python3.7/site-packages (from importlib-metadata; python_version < \"3.8\"->sqlalchemy>=0.7.3->ibm_db_sa) (3.1.0)\n/opt/conda/envs/Python-3.7-OpenCE/lib/python3.7/site-packages/secretstorage/dhcrypto.py:16: CryptographyDeprecationWarning: int_from_bytes is deprecated, use int.from_bytes instead\n  from cryptography.utils import int_from_bytes\n/opt/conda/envs/Python-3.7-OpenCE/lib/python3.7/site-packages/secretstorage/util.py:25: CryptographyDeprecationWarning: int_from_bytes is deprecated, use int.from_bytes instead\n  from cryptography.utils import int_from_bytes\nRequirement already satisfied: ipython-sql in /opt/conda/envs/Python-3.7-OpenCE/lib/python3.7/site-packages (0.4.0)\nRequirement already satisfied: sqlparse in /opt/conda/envs/Python-3.7-OpenCE/lib/python3.7/site-packages (from ipython-sql) (0.4.2)\nRequirement already satisfied: sqlalchemy>=0.6.7 in /opt/conda/envs/Python-3.7-OpenCE/lib/python3.7/site-packages (from ipython-sql) (1.4.22)\nRequirement already satisfied: prettytable<1 in /opt/conda/envs/Python-3.7-OpenCE/lib/python3.7/site-packages (from ipython-sql) (0.7.2)\nRequirement already satisfied: ipython-genutils>=0.1.0 in /opt/conda/envs/Python-3.7-OpenCE/lib/python3.7/site-packages (from ipython-sql) (0.2.0)\nRequirement already satisfied: six in /opt/conda/envs/Python-3.7-OpenCE/lib/python3.7/site-packages (from ipython-sql) (1.15.0)\nRequirement already satisfied: ipython>=1.0 in /opt/conda/envs/Python-3.7-OpenCE/lib/python3.7/site-packages (from ipython-sql) (7.27.0)\nRequirement already satisfied: importlib-metadata; python_version < \"3.8\" in /opt/conda/envs/Python-3.7-OpenCE/lib/python3.7/site-packages (from sqlalchemy>=0.6.7->ipython-sql) (1.6.1)\nRequirement already satisfied: greenlet!=0.4.17; python_version >= \"3\" in /opt/conda/envs/Python-3.7-OpenCE/lib/python3.7/site-packages (from sqlalchemy>=0.6.7->ipython-sql) (1.1.1)\nRequirement already satisfied: pexpect>4.3; sys_platform != \"win32\" in /opt/conda/envs/Python-3.7-OpenCE/lib/python3.7/site-packages (from ipython>=1.0->ipython-sql) (4.8.0)\nRequirement already satisfied: pygments in /opt/conda/envs/Python-3.7-OpenCE/lib/python3.7/site-packages (from ipython>=1.0->ipython-sql) (2.6.1)\nRequirement already satisfied: decorator in /opt/conda/envs/Python-3.7-OpenCE/lib/python3.7/site-packages (from ipython>=1.0->ipython-sql) (4.4.2)\nRequirement already satisfied: matplotlib-inline in /opt/conda/envs/Python-3.7-OpenCE/lib/python3.7/site-packages (from ipython>=1.0->ipython-sql) (0.1.2)\nRequirement already satisfied: setuptools>=18.5 in /opt/conda/envs/Python-3.7-OpenCE/lib/python3.7/site-packages (from ipython>=1.0->ipython-sql) (47.3.1.post20200622)\nRequirement already satisfied: pickleshare in /opt/conda/envs/Python-3.7-OpenCE/lib/python3.7/site-packages (from ipython>=1.0->ipython-sql) (0.7.5)\nRequirement already satisfied: prompt-toolkit!=3.0.0,!=3.0.1,<3.1.0,>=2.0.0 in /opt/conda/envs/Python-3.7-OpenCE/lib/python3.7/site-packages (from ipython>=1.0->ipython-sql) (3.0.20)\nRequirement already satisfied: backcall in /opt/conda/envs/Python-3.7-OpenCE/lib/python3.7/site-packages (from ipython>=1.0->ipython-sql) (0.2.0)\nRequirement already satisfied: jedi>=0.16 in /opt/conda/envs/Python-3.7-OpenCE/lib/python3.7/site-packages (from ipython>=1.0->ipython-sql) (0.17.1)\nRequirement already satisfied: traitlets>=4.2 in /opt/conda/envs/Python-3.7-OpenCE/lib/python3.7/site-packages (from ipython>=1.0->ipython-sql) (4.3.3)\nRequirement already satisfied: zipp>=0.5 in /opt/conda/envs/Python-3.7-OpenCE/lib/python3.7/site-packages (from importlib-metadata; python_version < \"3.8\"->sqlalchemy>=0.6.7->ipython-sql) (3.1.0)\nRequirement already satisfied: ptyprocess>=0.5 in /opt/conda/envs/Python-3.7-OpenCE/lib/python3.7/site-packages (from pexpect>4.3; sys_platform != \"win32\"->ipython>=1.0->ipython-sql) (0.6.0)\nRequirement already satisfied: wcwidth in /opt/conda/envs/Python-3.7-OpenCE/lib/python3.7/site-packages (from prompt-toolkit!=3.0.0,!=3.0.1,<3.1.0,>=2.0.0->ipython>=1.0->ipython-sql) (0.2.4)\nRequirement already satisfied: parso<0.8.0,>=0.7.0 in /opt/conda/envs/Python-3.7-OpenCE/lib/python3.7/site-packages (from jedi>=0.16->ipython>=1.0->ipython-sql) (0.7.0)\n"
                }
            ],
            "source": "!pip install sqlalchemy==1.4.22\n!pip install ibm_db_sa\n!pip install ipython-sql"
        },
        {
            "cell_type": "markdown",
            "metadata": {},
            "source": "### Connect to the database\n\nLet us first load the SQL extension and establish a connection with the database\n"
        },
        {
            "cell_type": "code",
            "execution_count": 12,
            "metadata": {},
            "outputs": [
                {
                    "name": "stdout",
                    "output_type": "stream",
                    "text": "The sql extension is already loaded. To reload it, use:\n  %reload_ext sql\n"
                }
            ],
            "source": "%load_ext sql"
        },
        {
            "cell_type": "code",
            "execution_count": 13,
            "metadata": {},
            "outputs": [],
            "source": "import sqlalchemy\n"
        },
        {
            "cell_type": "code",
            "execution_count": 22,
            "metadata": {},
            "outputs": [],
            "source": "import pandas as pd"
        },
        {
            "cell_type": "code",
            "execution_count": 15,
            "metadata": {},
            "outputs": [
                {
                    "data": {
                        "text/plain": "'1.3.9'"
                    },
                    "execution_count": 15,
                    "metadata": {},
                    "output_type": "execute_result"
                }
            ],
            "source": "sqlalchemy.__version__"
        },
        {
            "cell_type": "markdown",
            "metadata": {},
            "source": "**DB2 magic in case of old UI service credentials.**\n\nIn the next cell enter your db2 connection string. Recall you created Service Credentials for your Db2 instance before. From the **uri** field of your Db2 service credentials copy everything after db2:// (except the double quote at the end) and paste it in the cell below after ibm_db_sa://\n\n<img src =\"https://cf-courses-data.s3.us.cloud-object-storage.appdomain.cloud/IBMDeveloperSkillsNetwork-DB0201EN-SkillsNetwork/labs/FinalModule_edX/images/URI.jpg\">\n\nin the following format\n\n**%sql ibm_db_sa://my-username:my-password\\@my-hostname:my-port/my-db-name**\n\n**DB2 magic in case of new UI service credentials.**\n\n<img src =\"https://cf-courses-data.s3.us.cloud-object-storage.appdomain.cloud/IBM-DS0321EN-SkillsNetwork/labs/module_2/images/servicecredentials.png\" width=600>  \n\n*   Use the following format.\n\n*   Add security=SSL at the end\n\n**%sql ibm_db_sa://my-username:my-password\\@my-hostname:my-port/my-db-name?security=SSL**\n"
        },
        {
            "cell_type": "code",
            "execution_count": 16,
            "metadata": {},
            "outputs": [],
            "source": "%sql ibm_db_sa://vmg68138:pfz7pV2ZEfZDlMv1@21fecfd8-47b7-4937-840d-d791d0218660.bs2io90l08kqb1od8lcg.databases.appdomain.cloud:31864/bludb?security=SSL"
        },
        {
            "cell_type": "markdown",
            "metadata": {},
            "source": "## Tasks\n\nNow write and execute SQL queries to solve the assignment tasks.\n\n### Task 1\n\n##### Display the names of the unique launch sites  in the space mission\n"
        },
        {
            "cell_type": "code",
            "execution_count": 65,
            "metadata": {
                "scrolled": false
            },
            "outputs": [
                {
                    "name": "stdout",
                    "output_type": "stream",
                    "text": " * ibm_db_sa://vmg68138:***@21fecfd8-47b7-4937-840d-d791d0218660.bs2io90l08kqb1od8lcg.databases.appdomain.cloud:31864/bludb\nDone.\n"
                },
                {
                    "data": {
                        "text/html": "<div>\n<style scoped>\n    .dataframe tbody tr th:only-of-type {\n        vertical-align: middle;\n    }\n\n    .dataframe tbody tr th {\n        vertical-align: top;\n    }\n\n    .dataframe thead th {\n        text-align: right;\n    }\n</style>\n<table border=\"1\" class=\"dataframe\">\n  <thead>\n    <tr style=\"text-align: right;\">\n      <th></th>\n      <th>DATE</th>\n      <th>time__utc_</th>\n      <th>booster_version</th>\n      <th>launch_site</th>\n      <th>payload</th>\n      <th>payload_mass__kg_</th>\n      <th>orbit</th>\n      <th>customer</th>\n      <th>mission_outcome</th>\n      <th>landing__outcome</th>\n    </tr>\n  </thead>\n  <tbody>\n    <tr>\n      <th>74</th>\n      <td>2019-11-11</td>\n      <td>14:56:00</td>\n      <td>F9 B5 B1048.4</td>\n      <td>CCAFS SLC-40</td>\n      <td>Starlink 1 v1.0, SpaceX CRS-19</td>\n      <td>15600</td>\n      <td>LEO</td>\n      <td>SpaceX</td>\n      <td>Success</td>\n      <td>Success</td>\n    </tr>\n    <tr>\n      <th>98</th>\n      <td>2020-11-21</td>\n      <td>17:17:08</td>\n      <td>F9 B5B1063.1</td>\n      <td>VAFB SLC-4E</td>\n      <td>Sentinel-6 Michael Freilich, Starlink 15 v1.0</td>\n      <td>1192</td>\n      <td>LEO</td>\n      <td>NASA / NOAA / ESA / EUMETSAT</td>\n      <td>Success</td>\n      <td>Success</td>\n    </tr>\n    <tr>\n      <th>7</th>\n      <td>2014-01-06</td>\n      <td>22:06:00</td>\n      <td>F9 v1.1</td>\n      <td>CCAFS LC-40</td>\n      <td>Thaicom 6</td>\n      <td>3325</td>\n      <td>GTO</td>\n      <td>Thaicom</td>\n      <td>Success</td>\n      <td>No attempt</td>\n    </tr>\n    <tr>\n      <th>38</th>\n      <td>2017-08-14</td>\n      <td>16:31:00</td>\n      <td>F9 B4 B1039.1</td>\n      <td>KSC LC-39A</td>\n      <td>SpaceX CRS-12</td>\n      <td>3310</td>\n      <td>LEO (ISS)</td>\n      <td>NASA (CRS)</td>\n      <td>Success</td>\n      <td>Success (ground pad)</td>\n    </tr>\n    <tr>\n      <th>64</th>\n      <td>2018-12-05</td>\n      <td>18:16:00</td>\n      <td>F9 B5B1050</td>\n      <td>CCAFS SLC-40</td>\n      <td>SpaceX CRS-16</td>\n      <td>2500</td>\n      <td>LEO (ISS)</td>\n      <td>NASA (CRS)</td>\n      <td>Success</td>\n      <td>Failure</td>\n    </tr>\n    <tr>\n      <th>13</th>\n      <td>2015-01-10</td>\n      <td>09:47:00</td>\n      <td>F9 v1.1 B1012</td>\n      <td>CCAFS LC-40</td>\n      <td>SpaceX CRS-5</td>\n      <td>2395</td>\n      <td>LEO (ISS)</td>\n      <td>NASA (CRS)</td>\n      <td>Success</td>\n      <td>Failure (drone ship)</td>\n    </tr>\n    <tr>\n      <th>8</th>\n      <td>2014-04-18</td>\n      <td>19:25:00</td>\n      <td>F9 v1.1</td>\n      <td>CCAFS LC-40</td>\n      <td>SpaceX CRS-3</td>\n      <td>2296</td>\n      <td>LEO (ISS)</td>\n      <td>NASA (CRS)</td>\n      <td>Success</td>\n      <td>Controlled (ocean)</td>\n    </tr>\n    <tr>\n      <th>45</th>\n      <td>2017-12-23</td>\n      <td>01:27:00</td>\n      <td>F9 FT  B1036.2</td>\n      <td>VAFB SLC-4E</td>\n      <td>Iridium NEXT 4</td>\n      <td>9600</td>\n      <td>Polar LEO</td>\n      <td>Iridium Communications</td>\n      <td>Success</td>\n      <td>Controlled (ocean)</td>\n    </tr>\n    <tr>\n      <th>17</th>\n      <td>2015-04-27</td>\n      <td>23:03:00</td>\n      <td>F9 v1.1 B1016</td>\n      <td>CCAFS LC-40</td>\n      <td>Turkmen 52 / MonacoSAT</td>\n      <td>4707</td>\n      <td>GTO</td>\n      <td>Turkmenistan National Space Agency</td>\n      <td>Success</td>\n      <td>No attempt</td>\n    </tr>\n    <tr>\n      <th>90</th>\n      <td>2020-08-18</td>\n      <td>14:31:00</td>\n      <td>F9 B5 B1049.6</td>\n      <td>CCAFS SLC-40</td>\n      <td>Starlink 10 v1.0, SkySat-19, -20, -21, SAOCOM 1B</td>\n      <td>15440</td>\n      <td>LEO</td>\n      <td>SpaceX, Planet Labs, PlanetIQ</td>\n      <td>Success</td>\n      <td>Success</td>\n    </tr>\n    <tr>\n      <th>39</th>\n      <td>2017-08-24</td>\n      <td>18:51:00</td>\n      <td>F9 FT B1038.1</td>\n      <td>VAFB SLC-4E</td>\n      <td>Formosat-5</td>\n      <td>475</td>\n      <td>SSO</td>\n      <td>NSPO</td>\n      <td>Success</td>\n      <td>Success (drone ship)</td>\n    </tr>\n    <tr>\n      <th>25</th>\n      <td>2016-06-15</td>\n      <td>14:29:00</td>\n      <td>F9 FT B1024</td>\n      <td>CCAFS LC-40</td>\n      <td>ABS-2A Eutelsat 117 West B</td>\n      <td>3600</td>\n      <td>GTO</td>\n      <td>ABS Eutelsat</td>\n      <td>Success</td>\n      <td>Failure (drone ship)</td>\n    </tr>\n    <tr>\n      <th>22</th>\n      <td>2016-04-08</td>\n      <td>20:43:00</td>\n      <td>F9 FT B1021.1</td>\n      <td>CCAFS LC-40</td>\n      <td>SpaceX CRS-8</td>\n      <td>3136</td>\n      <td>LEO (ISS)</td>\n      <td>NASA (CRS)</td>\n      <td>Success</td>\n      <td>Success (drone ship)</td>\n    </tr>\n    <tr>\n      <th>46</th>\n      <td>2018-01-08</td>\n      <td>01:00:00</td>\n      <td>F9 B4 B1043.1</td>\n      <td>CCAFS SLC-40</td>\n      <td>Zuma</td>\n      <td>5000</td>\n      <td>LEO</td>\n      <td>Northrop Grumman</td>\n      <td>Success (payload status unclear)</td>\n      <td>Success (ground pad)</td>\n    </tr>\n    <tr>\n      <th>78</th>\n      <td>2020-01-19</td>\n      <td>15:30:00</td>\n      <td>F9 B5 B1046.4</td>\n      <td>KSC LC-39A</td>\n      <td>Crew Dragon in-flight abort test, Starlink 3 v...</td>\n      <td>12050</td>\n      <td>Sub-orbital</td>\n      <td>NASA (CTS)</td>\n      <td>Success</td>\n      <td>No attempt</td>\n    </tr>\n    <tr>\n      <th>56</th>\n      <td>2018-06-29</td>\n      <td>09:42:00</td>\n      <td>F9 B4 B1045.2</td>\n      <td>CCAFS SLC-40</td>\n      <td>SpaceX CRS-15</td>\n      <td>2697</td>\n      <td>LEO (ISS)</td>\n      <td>NASA (CRS)</td>\n      <td>Success</td>\n      <td>No attempt</td>\n    </tr>\n    <tr>\n      <th>15</th>\n      <td>2015-03-02</td>\n      <td>03:50:00</td>\n      <td>F9 v1.1 B1014</td>\n      <td>CCAFS LC-40</td>\n      <td>ABS-3A Eutelsat 115 West B</td>\n      <td>4159</td>\n      <td>GTO</td>\n      <td>ABS Eutelsat</td>\n      <td>Success</td>\n      <td>No attempt</td>\n    </tr>\n    <tr>\n      <th>28</th>\n      <td>2017-01-14</td>\n      <td>17:54:00</td>\n      <td>F9 FT B1029.1</td>\n      <td>VAFB SLC-4E</td>\n      <td>Iridium NEXT 1</td>\n      <td>9600</td>\n      <td>Polar LEO</td>\n      <td>Iridium Communications</td>\n      <td>Success</td>\n      <td>Success (drone ship)</td>\n    </tr>\n    <tr>\n      <th>72</th>\n      <td>2019-07-25</td>\n      <td>22:01:00</td>\n      <td>F9 B5 B1056.2</td>\n      <td>CCAFS SLC-40</td>\n      <td>SpaceX CRS-18, AMOS-17</td>\n      <td>2268</td>\n      <td>LEO (ISS)</td>\n      <td>NASA (CRS)</td>\n      <td>Success</td>\n      <td>Success</td>\n    </tr>\n    <tr>\n      <th>18</th>\n      <td>2015-06-28</td>\n      <td>14:21:00</td>\n      <td>F9 v1.1 B1018</td>\n      <td>CCAFS LC-40</td>\n      <td>SpaceX CRS-7</td>\n      <td>1952</td>\n      <td>LEO (ISS)</td>\n      <td>NASA (CRS)</td>\n      <td>Failure (in flight)</td>\n      <td>Precluded (drone ship)</td>\n    </tr>\n  </tbody>\n</table>\n</div>",
                        "text/plain": "          DATE time__utc_ booster_version   launch_site  \\\n74  2019-11-11   14:56:00   F9 B5 B1048.4  CCAFS SLC-40   \n98  2020-11-21   17:17:08    F9 B5B1063.1   VAFB SLC-4E   \n7   2014-01-06   22:06:00         F9 v1.1   CCAFS LC-40   \n38  2017-08-14   16:31:00   F9 B4 B1039.1    KSC LC-39A   \n64  2018-12-05   18:16:00      F9 B5B1050  CCAFS SLC-40   \n13  2015-01-10   09:47:00   F9 v1.1 B1012   CCAFS LC-40   \n8   2014-04-18   19:25:00         F9 v1.1   CCAFS LC-40   \n45  2017-12-23   01:27:00  F9 FT  B1036.2   VAFB SLC-4E   \n17  2015-04-27   23:03:00   F9 v1.1 B1016   CCAFS LC-40   \n90  2020-08-18   14:31:00   F9 B5 B1049.6  CCAFS SLC-40   \n39  2017-08-24   18:51:00   F9 FT B1038.1   VAFB SLC-4E   \n25  2016-06-15   14:29:00     F9 FT B1024   CCAFS LC-40   \n22  2016-04-08   20:43:00   F9 FT B1021.1   CCAFS LC-40   \n46  2018-01-08   01:00:00   F9 B4 B1043.1  CCAFS SLC-40   \n78  2020-01-19   15:30:00   F9 B5 B1046.4    KSC LC-39A   \n56  2018-06-29   09:42:00   F9 B4 B1045.2  CCAFS SLC-40   \n15  2015-03-02   03:50:00   F9 v1.1 B1014   CCAFS LC-40   \n28  2017-01-14   17:54:00   F9 FT B1029.1   VAFB SLC-4E   \n72  2019-07-25   22:01:00   F9 B5 B1056.2  CCAFS SLC-40   \n18  2015-06-28   14:21:00   F9 v1.1 B1018   CCAFS LC-40   \n\n                                              payload  payload_mass__kg_  \\\n74                    Starlink 1 v1.0, SpaceX CRS-19               15600   \n98     Sentinel-6 Michael Freilich, Starlink 15 v1.0                1192   \n7                                           Thaicom 6               3325   \n38                                      SpaceX CRS-12               3310   \n64                                      SpaceX CRS-16               2500   \n13                                       SpaceX CRS-5               2395   \n8                                        SpaceX CRS-3               2296   \n45                                     Iridium NEXT 4               9600   \n17                             Turkmen 52 / MonacoSAT               4707   \n90  Starlink 10 v1.0, SkySat-19, -20, -21, SAOCOM 1B               15440   \n39                                         Formosat-5                475   \n25                         ABS-2A Eutelsat 117 West B               3600   \n22                                       SpaceX CRS-8               3136   \n46                                               Zuma               5000   \n78  Crew Dragon in-flight abort test, Starlink 3 v...              12050   \n56                                      SpaceX CRS-15               2697   \n15                         ABS-3A Eutelsat 115 West B               4159   \n28                                     Iridium NEXT 1               9600   \n72                            SpaceX CRS-18, AMOS-17                2268   \n18                                       SpaceX CRS-7               1952   \n\n          orbit                            customer  \\\n74          LEO                              SpaceX   \n98          LEO        NASA / NOAA / ESA / EUMETSAT   \n7           GTO                             Thaicom   \n38    LEO (ISS)                          NASA (CRS)   \n64    LEO (ISS)                          NASA (CRS)   \n13    LEO (ISS)                          NASA (CRS)   \n8     LEO (ISS)                          NASA (CRS)   \n45    Polar LEO              Iridium Communications   \n17          GTO  Turkmenistan National Space Agency   \n90          LEO       SpaceX, Planet Labs, PlanetIQ   \n39          SSO                                NSPO   \n25          GTO                        ABS Eutelsat   \n22    LEO (ISS)                          NASA (CRS)   \n46          LEO                    Northrop Grumman   \n78  Sub-orbital                          NASA (CTS)   \n56    LEO (ISS)                          NASA (CRS)   \n15          GTO                        ABS Eutelsat   \n28    Polar LEO              Iridium Communications   \n72    LEO (ISS)                          NASA (CRS)   \n18    LEO (ISS)                          NASA (CRS)   \n\n                     mission_outcome        landing__outcome  \n74                           Success                 Success  \n98                           Success                 Success  \n7                            Success              No attempt  \n38                           Success    Success (ground pad)  \n64                           Success                 Failure  \n13                           Success    Failure (drone ship)  \n8                            Success      Controlled (ocean)  \n45                           Success      Controlled (ocean)  \n17                           Success              No attempt  \n90                           Success                 Success  \n39                           Success    Success (drone ship)  \n25                           Success    Failure (drone ship)  \n22                           Success    Success (drone ship)  \n46  Success (payload status unclear)    Success (ground pad)  \n78                           Success              No attempt  \n56                           Success              No attempt  \n15                           Success              No attempt  \n28                           Success    Success (drone ship)  \n72                           Success                 Success  \n18               Failure (in flight)  Precluded (drone ship)  "
                    },
                    "execution_count": 65,
                    "metadata": {},
                    "output_type": "execute_result"
                }
            ],
            "source": "select_query = %sql select * from SPACEX_DATASEt;\nselect_df = select_query.DataFrame()\nselect_df.sample(20)"
        },
        {
            "cell_type": "code",
            "execution_count": 33,
            "metadata": {},
            "outputs": [
                {
                    "data": {
                        "text/plain": "['DATE',\n 'time__utc_',\n 'booster_version',\n 'launch_site',\n 'payload',\n 'payload_mass__kg_',\n 'orbit',\n 'customer',\n 'mission_outcome',\n 'landing__outcome']"
                    },
                    "execution_count": 33,
                    "metadata": {},
                    "output_type": "execute_result"
                }
            ],
            "source": "(select_query.keys)"
        },
        {
            "cell_type": "code",
            "execution_count": 37,
            "metadata": {},
            "outputs": [
                {
                    "name": "stdout",
                    "output_type": "stream",
                    "text": " * ibm_db_sa://vmg68138:***@21fecfd8-47b7-4937-840d-d791d0218660.bs2io90l08kqb1od8lcg.databases.appdomain.cloud:31864/bludb\nDone.\n"
                },
                {
                    "data": {
                        "text/html": "<table>\n    <tr>\n        <th>launch_site</th>\n    </tr>\n    <tr>\n        <td>CCAFS LC-40</td>\n    </tr>\n    <tr>\n        <td>CCAFS SLC-40</td>\n    </tr>\n    <tr>\n        <td>KSC LC-39A</td>\n    </tr>\n    <tr>\n        <td>VAFB SLC-4E</td>\n    </tr>\n</table>",
                        "text/plain": "[('CCAFS LC-40',), ('CCAFS SLC-40',), ('KSC LC-39A',), ('VAFB SLC-4E',)]"
                    },
                    "execution_count": 37,
                    "metadata": {},
                    "output_type": "execute_result"
                }
            ],
            "source": "%sql select distinct launch_site from spacex_dataset"
        },
        {
            "cell_type": "markdown",
            "metadata": {},
            "source": "### Task 2\n\n##### Display 5 records where launch sites begin with the string 'KSC'\n"
        },
        {
            "cell_type": "code",
            "execution_count": 41,
            "metadata": {},
            "outputs": [
                {
                    "name": "stdout",
                    "output_type": "stream",
                    "text": " * ibm_db_sa://vmg68138:***@21fecfd8-47b7-4937-840d-d791d0218660.bs2io90l08kqb1od8lcg.databases.appdomain.cloud:31864/bludb\nDone.\n"
                },
                {
                    "data": {
                        "text/html": "<table>\n    <tr>\n        <th>DATE</th>\n        <th>time__utc_</th>\n        <th>booster_version</th>\n        <th>launch_site</th>\n        <th>payload</th>\n        <th>payload_mass__kg_</th>\n        <th>orbit</th>\n        <th>customer</th>\n        <th>mission_outcome</th>\n        <th>landing__outcome</th>\n    </tr>\n    <tr>\n        <td>2017-02-19</td>\n        <td>14:39:00</td>\n        <td>F9 FT B1031.1</td>\n        <td>KSC LC-39A</td>\n        <td>SpaceX CRS-10</td>\n        <td>2490</td>\n        <td>LEO (ISS)</td>\n        <td>NASA (CRS)</td>\n        <td>Success</td>\n        <td>Success (ground pad)</td>\n    </tr>\n    <tr>\n        <td>2017-03-16</td>\n        <td>06:00:00</td>\n        <td>F9 FT B1030</td>\n        <td>KSC LC-39A</td>\n        <td>EchoStar 23</td>\n        <td>5600</td>\n        <td>GTO</td>\n        <td>EchoStar</td>\n        <td>Success</td>\n        <td>No attempt</td>\n    </tr>\n    <tr>\n        <td>2017-03-30</td>\n        <td>22:27:00</td>\n        <td>F9 FT  B1021.2</td>\n        <td>KSC LC-39A</td>\n        <td>SES-10</td>\n        <td>5300</td>\n        <td>GTO</td>\n        <td>SES</td>\n        <td>Success</td>\n        <td>Success (drone ship)</td>\n    </tr>\n    <tr>\n        <td>2017-05-01</td>\n        <td>11:15:00</td>\n        <td>F9 FT B1032.1</td>\n        <td>KSC LC-39A</td>\n        <td>NROL-76</td>\n        <td>5300</td>\n        <td>LEO</td>\n        <td>NRO</td>\n        <td>Success</td>\n        <td>Success (ground pad)</td>\n    </tr>\n    <tr>\n        <td>2017-05-15</td>\n        <td>23:21:00</td>\n        <td>F9 FT B1034</td>\n        <td>KSC LC-39A</td>\n        <td>Inmarsat-5 F4</td>\n        <td>6070</td>\n        <td>GTO</td>\n        <td>Inmarsat</td>\n        <td>Success</td>\n        <td>No attempt</td>\n    </tr>\n</table>",
                        "text/plain": "[(datetime.date(2017, 2, 19), datetime.time(14, 39), 'F9 FT B1031.1', 'KSC LC-39A', 'SpaceX CRS-10', 2490, 'LEO (ISS)', 'NASA (CRS)', 'Success', 'Success (ground pad)'),\n (datetime.date(2017, 3, 16), datetime.time(6, 0), 'F9 FT B1030', 'KSC LC-39A', 'EchoStar 23', 5600, 'GTO', 'EchoStar', 'Success', 'No attempt'),\n (datetime.date(2017, 3, 30), datetime.time(22, 27), 'F9 FT  B1021.2', 'KSC LC-39A', 'SES-10', 5300, 'GTO', 'SES', 'Success', 'Success (drone ship)'),\n (datetime.date(2017, 5, 1), datetime.time(11, 15), 'F9 FT B1032.1', 'KSC LC-39A', 'NROL-76', 5300, 'LEO', 'NRO', 'Success', 'Success (ground pad)'),\n (datetime.date(2017, 5, 15), datetime.time(23, 21), 'F9 FT B1034', 'KSC LC-39A', 'Inmarsat-5 F4', 6070, 'GTO', 'Inmarsat', 'Success', 'No attempt')]"
                    },
                    "execution_count": 41,
                    "metadata": {},
                    "output_type": "execute_result"
                }
            ],
            "source": "%sql select * from spacex_dataset where launch_site like 'KSC%' limit 5;"
        },
        {
            "cell_type": "markdown",
            "metadata": {},
            "source": "### Task 3\n\n##### Display the total payload mass carried by boosters launched by NASA (CRS)\n"
        },
        {
            "cell_type": "code",
            "execution_count": 49,
            "metadata": {},
            "outputs": [
                {
                    "name": "stdout",
                    "output_type": "stream",
                    "text": " * ibm_db_sa://vmg68138:***@21fecfd8-47b7-4937-840d-d791d0218660.bs2io90l08kqb1od8lcg.databases.appdomain.cloud:31864/bludb\nDone.\n"
                },
                {
                    "data": {
                        "text/html": "<table>\n    <tr>\n        <th>customer</th>\n        <th>2</th>\n    </tr>\n    <tr>\n        <td>NASA (CRS)</td>\n        <td>45596</td>\n    </tr>\n</table>",
                        "text/plain": "[('NASA (CRS)', 45596)]"
                    },
                    "execution_count": 49,
                    "metadata": {},
                    "output_type": "execute_result"
                }
            ],
            "source": "%sql select customer, sum(payload_mass__kg_) from spacex_dataset group by customer having customer = 'NASA (CRS)';"
        },
        {
            "cell_type": "markdown",
            "metadata": {},
            "source": "### Task 4\n\n##### Display average payload mass carried by booster version F9 v1.1\n"
        },
        {
            "cell_type": "code",
            "execution_count": 54,
            "metadata": {},
            "outputs": [
                {
                    "name": "stdout",
                    "output_type": "stream",
                    "text": " * ibm_db_sa://vmg68138:***@21fecfd8-47b7-4937-840d-d791d0218660.bs2io90l08kqb1od8lcg.databases.appdomain.cloud:31864/bludb\nDone.\n"
                },
                {
                    "data": {
                        "text/html": "<table>\n    <tr>\n        <th>1</th>\n    </tr>\n    <tr>\n        <td>2928</td>\n    </tr>\n</table>",
                        "text/plain": "[(2928,)]"
                    },
                    "execution_count": 54,
                    "metadata": {},
                    "output_type": "execute_result"
                }
            ],
            "source": "%sql select avg(payload_mass__kg_) from spacex_dataset where booster_version = 'F9 v1.1';"
        },
        {
            "cell_type": "markdown",
            "metadata": {},
            "source": "### Task 5\n\n##### List the date where the first succesful landing outcome in drone ship was acheived.\n\n*Hint:Use min function*\n"
        },
        {
            "cell_type": "code",
            "execution_count": 55,
            "metadata": {},
            "outputs": [
                {
                    "name": "stdout",
                    "output_type": "stream",
                    "text": " * ibm_db_sa://vmg68138:***@21fecfd8-47b7-4937-840d-d791d0218660.bs2io90l08kqb1od8lcg.databases.appdomain.cloud:31864/bludb\nDone.\n"
                },
                {
                    "data": {
                        "text/html": "<table>\n    <tr>\n        <th>landing__outcome</th>\n    </tr>\n    <tr>\n        <td>Controlled (ocean)</td>\n    </tr>\n    <tr>\n        <td>Failure</td>\n    </tr>\n    <tr>\n        <td>Failure (drone ship)</td>\n    </tr>\n    <tr>\n        <td>Failure (parachute)</td>\n    </tr>\n    <tr>\n        <td>No attempt</td>\n    </tr>\n    <tr>\n        <td>Precluded (drone ship)</td>\n    </tr>\n    <tr>\n        <td>Success</td>\n    </tr>\n    <tr>\n        <td>Success (drone ship)</td>\n    </tr>\n    <tr>\n        <td>Success (ground pad)</td>\n    </tr>\n    <tr>\n        <td>Uncontrolled (ocean)</td>\n    </tr>\n</table>",
                        "text/plain": "[('Controlled (ocean)',),\n ('Failure',),\n ('Failure (drone ship)',),\n ('Failure (parachute)',),\n ('No attempt',),\n ('Precluded (drone ship)',),\n ('Success',),\n ('Success (drone ship)',),\n ('Success (ground pad)',),\n ('Uncontrolled (ocean)',)]"
                    },
                    "execution_count": 55,
                    "metadata": {},
                    "output_type": "execute_result"
                }
            ],
            "source": "%sql select distinct(landing__outcome) from spacex_dataset;"
        },
        {
            "cell_type": "code",
            "execution_count": 56,
            "metadata": {},
            "outputs": [
                {
                    "name": "stdout",
                    "output_type": "stream",
                    "text": " * ibm_db_sa://vmg68138:***@21fecfd8-47b7-4937-840d-d791d0218660.bs2io90l08kqb1od8lcg.databases.appdomain.cloud:31864/bludb\nDone.\n"
                },
                {
                    "data": {
                        "text/html": "<table>\n    <tr>\n        <th>1</th>\n    </tr>\n    <tr>\n        <td>2016-04-08</td>\n    </tr>\n</table>",
                        "text/plain": "[(datetime.date(2016, 4, 8),)]"
                    },
                    "execution_count": 56,
                    "metadata": {},
                    "output_type": "execute_result"
                }
            ],
            "source": "%sql select min(DATE) from spacex_dataset where landing__outcome = 'Success (drone ship)';"
        },
        {
            "cell_type": "code",
            "execution_count": 58,
            "metadata": {},
            "outputs": [
                {
                    "name": "stdout",
                    "output_type": "stream",
                    "text": " * ibm_db_sa://vmg68138:***@21fecfd8-47b7-4937-840d-d791d0218660.bs2io90l08kqb1od8lcg.databases.appdomain.cloud:31864/bludb\nDone.\n"
                },
                {
                    "data": {
                        "text/html": "<table>\n    <tr>\n        <th>DATE</th>\n        <th>time__utc_</th>\n        <th>booster_version</th>\n        <th>launch_site</th>\n        <th>payload</th>\n        <th>payload_mass__kg_</th>\n        <th>orbit</th>\n        <th>customer</th>\n        <th>mission_outcome</th>\n        <th>landing__outcome</th>\n    </tr>\n    <tr>\n        <td>2016-04-08</td>\n        <td>20:43:00</td>\n        <td>F9 FT B1021.1</td>\n        <td>CCAFS LC-40</td>\n        <td>SpaceX CRS-8</td>\n        <td>3136</td>\n        <td>LEO (ISS)</td>\n        <td>NASA (CRS)</td>\n        <td>Success</td>\n        <td>Success (drone ship)</td>\n    </tr>\n</table>",
                        "text/plain": "[(datetime.date(2016, 4, 8), datetime.time(20, 43), 'F9 FT B1021.1', 'CCAFS LC-40', 'SpaceX CRS-8', 3136, 'LEO (ISS)', 'NASA (CRS)', 'Success', 'Success (drone ship)')]"
                    },
                    "execution_count": 58,
                    "metadata": {},
                    "output_type": "execute_result"
                }
            ],
            "source": "%sql select * from spacex_dataset where date='2016-04-08';"
        },
        {
            "cell_type": "code",
            "execution_count": 60,
            "metadata": {},
            "outputs": [
                {
                    "name": "stdout",
                    "output_type": "stream",
                    "text": " * ibm_db_sa://vmg68138:***@21fecfd8-47b7-4937-840d-d791d0218660.bs2io90l08kqb1od8lcg.databases.appdomain.cloud:31864/bludb\nDone.\n"
                },
                {
                    "data": {
                        "text/html": "<table>\n    <tr>\n        <th>DATE</th>\n        <th>time__utc_</th>\n        <th>booster_version</th>\n        <th>launch_site</th>\n        <th>payload</th>\n        <th>payload_mass__kg_</th>\n        <th>orbit</th>\n        <th>customer</th>\n        <th>mission_outcome</th>\n        <th>landing__outcome</th>\n    </tr>\n    <tr>\n        <td>2016-04-08</td>\n        <td>20:43:00</td>\n        <td>F9 FT B1021.1</td>\n        <td>CCAFS LC-40</td>\n        <td>SpaceX CRS-8</td>\n        <td>3136</td>\n        <td>LEO (ISS)</td>\n        <td>NASA (CRS)</td>\n        <td>Success</td>\n        <td>Success (drone ship)</td>\n    </tr>\n    <tr>\n        <td>2016-05-06</td>\n        <td>05:21:00</td>\n        <td>F9 FT B1022</td>\n        <td>CCAFS LC-40</td>\n        <td>JCSAT-14</td>\n        <td>4696</td>\n        <td>GTO</td>\n        <td>SKY Perfect JSAT Group</td>\n        <td>Success</td>\n        <td>Success (drone ship)</td>\n    </tr>\n    <tr>\n        <td>2016-05-27</td>\n        <td>21:39:00</td>\n        <td>F9 FT B1023.1</td>\n        <td>CCAFS LC-40</td>\n        <td>Thaicom 8</td>\n        <td>3100</td>\n        <td>GTO</td>\n        <td>Thaicom</td>\n        <td>Success</td>\n        <td>Success (drone ship)</td>\n    </tr>\n    <tr>\n        <td>2016-08-14</td>\n        <td>05:26:00</td>\n        <td>F9 FT B1026</td>\n        <td>CCAFS LC-40</td>\n        <td>JCSAT-16</td>\n        <td>4600</td>\n        <td>GTO</td>\n        <td>SKY Perfect JSAT Group</td>\n        <td>Success</td>\n        <td>Success (drone ship)</td>\n    </tr>\n    <tr>\n        <td>2017-01-14</td>\n        <td>17:54:00</td>\n        <td>F9 FT B1029.1</td>\n        <td>VAFB SLC-4E</td>\n        <td>Iridium NEXT 1</td>\n        <td>9600</td>\n        <td>Polar LEO</td>\n        <td>Iridium Communications</td>\n        <td>Success</td>\n        <td>Success (drone ship)</td>\n    </tr>\n    <tr>\n        <td>2017-03-30</td>\n        <td>22:27:00</td>\n        <td>F9 FT  B1021.2</td>\n        <td>KSC LC-39A</td>\n        <td>SES-10</td>\n        <td>5300</td>\n        <td>GTO</td>\n        <td>SES</td>\n        <td>Success</td>\n        <td>Success (drone ship)</td>\n    </tr>\n    <tr>\n        <td>2017-06-23</td>\n        <td>19:10:00</td>\n        <td>F9 FT  B1029.2</td>\n        <td>KSC LC-39A</td>\n        <td>BulgariaSat-1</td>\n        <td>3669</td>\n        <td>GTO</td>\n        <td>Bulsatcom</td>\n        <td>Success</td>\n        <td>Success (drone ship)</td>\n    </tr>\n    <tr>\n        <td>2017-06-25</td>\n        <td>20:25:00</td>\n        <td>F9 FT B1036.1</td>\n        <td>VAFB SLC-4E</td>\n        <td>Iridium NEXT 2</td>\n        <td>9600</td>\n        <td>LEO</td>\n        <td>Iridium Communications</td>\n        <td>Success</td>\n        <td>Success (drone ship)</td>\n    </tr>\n    <tr>\n        <td>2017-08-24</td>\n        <td>18:51:00</td>\n        <td>F9 FT B1038.1</td>\n        <td>VAFB SLC-4E</td>\n        <td>Formosat-5</td>\n        <td>475</td>\n        <td>SSO</td>\n        <td>NSPO</td>\n        <td>Success</td>\n        <td>Success (drone ship)</td>\n    </tr>\n    <tr>\n        <td>2017-10-09</td>\n        <td>12:37:00</td>\n        <td>F9 B4 B1041.1</td>\n        <td>VAFB SLC-4E</td>\n        <td>Iridium NEXT 3</td>\n        <td>9600</td>\n        <td>Polar LEO</td>\n        <td>Iridium Communications</td>\n        <td>Success</td>\n        <td>Success (drone ship)</td>\n    </tr>\n    <tr>\n        <td>2017-10-11</td>\n        <td>22:53:00</td>\n        <td>F9 FT  B1031.2</td>\n        <td>KSC LC-39A</td>\n        <td>SES-11 / EchoStar 105</td>\n        <td>5200</td>\n        <td>GTO</td>\n        <td>SES EchoStar</td>\n        <td>Success</td>\n        <td>Success (drone ship)</td>\n    </tr>\n    <tr>\n        <td>2017-10-30</td>\n        <td>19:34:00</td>\n        <td>F9 B4 B1042.1</td>\n        <td>KSC LC-39A</td>\n        <td>Koreasat 5A</td>\n        <td>3500</td>\n        <td>GTO</td>\n        <td>KT Corporation</td>\n        <td>Success</td>\n        <td>Success (drone ship)</td>\n    </tr>\n    <tr>\n        <td>2018-04-18</td>\n        <td>22:51:00</td>\n        <td>F9 B4 B1045.1</td>\n        <td>CCAFS SLC-40</td>\n        <td>Transiting Exoplanet Survey Satellite (TESS)</td>\n        <td>362</td>\n        <td>HEO</td>\n        <td>NASA (LSP)</td>\n        <td>Success</td>\n        <td>Success (drone ship)</td>\n    </tr>\n    <tr>\n        <td>2018-05-11</td>\n        <td>20:14:00</td>\n        <td>F9 B5  B1046.1</td>\n        <td>KSC LC-39A</td>\n        <td>Bangabandhu-1</td>\n        <td>3600</td>\n        <td>GTO</td>\n        <td>Thales-Alenia/BTRC</td>\n        <td>Success</td>\n        <td>Success (drone ship)</td>\n    </tr>\n</table>",
                        "text/plain": "[(datetime.date(2016, 4, 8), datetime.time(20, 43), 'F9 FT B1021.1', 'CCAFS LC-40', 'SpaceX CRS-8', 3136, 'LEO (ISS)', 'NASA (CRS)', 'Success', 'Success (drone ship)'),\n (datetime.date(2016, 5, 6), datetime.time(5, 21), 'F9 FT B1022', 'CCAFS LC-40', 'JCSAT-14', 4696, 'GTO', 'SKY Perfect JSAT Group', 'Success', 'Success (drone ship)'),\n (datetime.date(2016, 5, 27), datetime.time(21, 39), 'F9 FT B1023.1', 'CCAFS LC-40', 'Thaicom 8', 3100, 'GTO', 'Thaicom', 'Success', 'Success (drone ship)'),\n (datetime.date(2016, 8, 14), datetime.time(5, 26), 'F9 FT B1026', 'CCAFS LC-40', 'JCSAT-16', 4600, 'GTO', 'SKY Perfect JSAT Group', 'Success', 'Success (drone ship)'),\n (datetime.date(2017, 1, 14), datetime.time(17, 54), 'F9 FT B1029.1', 'VAFB SLC-4E', 'Iridium NEXT 1', 9600, 'Polar LEO', 'Iridium Communications', 'Success', 'Success (drone ship)'),\n (datetime.date(2017, 3, 30), datetime.time(22, 27), 'F9 FT  B1021.2', 'KSC LC-39A', 'SES-10', 5300, 'GTO', 'SES', 'Success', 'Success (drone ship)'),\n (datetime.date(2017, 6, 23), datetime.time(19, 10), 'F9 FT  B1029.2', 'KSC LC-39A', 'BulgariaSat-1', 3669, 'GTO', 'Bulsatcom', 'Success', 'Success (drone ship)'),\n (datetime.date(2017, 6, 25), datetime.time(20, 25), 'F9 FT B1036.1', 'VAFB SLC-4E', 'Iridium NEXT 2', 9600, 'LEO', 'Iridium Communications', 'Success', 'Success (drone ship)'),\n (datetime.date(2017, 8, 24), datetime.time(18, 51), 'F9 FT B1038.1', 'VAFB SLC-4E', 'Formosat-5', 475, 'SSO', 'NSPO', 'Success', 'Success (drone ship)'),\n (datetime.date(2017, 10, 9), datetime.time(12, 37), 'F9 B4 B1041.1', 'VAFB SLC-4E', 'Iridium NEXT 3', 9600, 'Polar LEO', 'Iridium Communications', 'Success', 'Success (drone ship)'),\n (datetime.date(2017, 10, 11), datetime.time(22, 53), 'F9 FT  B1031.2', 'KSC LC-39A', 'SES-11 / EchoStar 105', 5200, 'GTO', 'SES EchoStar', 'Success', 'Success (drone ship)'),\n (datetime.date(2017, 10, 30), datetime.time(19, 34), 'F9 B4 B1042.1', 'KSC LC-39A', 'Koreasat 5A', 3500, 'GTO', 'KT Corporation', 'Success', 'Success (drone ship)'),\n (datetime.date(2018, 4, 18), datetime.time(22, 51), 'F9 B4 B1045.1', 'CCAFS SLC-40', 'Transiting Exoplanet Survey Satellite (TESS)', 362, 'HEO', 'NASA (LSP)', 'Success', 'Success (drone ship)'),\n (datetime.date(2018, 5, 11), datetime.time(20, 14), 'F9 B5  B1046.1', 'KSC LC-39A', 'Bangabandhu-1', 3600, 'GTO', 'Thales-Alenia/BTRC', 'Success', 'Success (drone ship)')]"
                    },
                    "execution_count": 60,
                    "metadata": {},
                    "output_type": "execute_result"
                }
            ],
            "source": "%sql select * from spacex_dataset where landing__outcome='Success (drone ship)';"
        },
        {
            "cell_type": "markdown",
            "metadata": {},
            "source": "### Task 6\n\n##### List the names of the boosters which have success in ground pad  and have payload mass greater than 4000 but less than 6000\n"
        },
        {
            "cell_type": "code",
            "execution_count": 63,
            "metadata": {},
            "outputs": [
                {
                    "name": "stdout",
                    "output_type": "stream",
                    "text": " * ibm_db_sa://vmg68138:***@21fecfd8-47b7-4937-840d-d791d0218660.bs2io90l08kqb1od8lcg.databases.appdomain.cloud:31864/bludb\nDone.\n"
                },
                {
                    "data": {
                        "text/html": "<table>\n    <tr>\n        <th>booster_version</th>\n    </tr>\n    <tr>\n        <td>F9 FT B1032.1</td>\n    </tr>\n    <tr>\n        <td>F9 B4 B1040.1</td>\n    </tr>\n    <tr>\n        <td>F9 B4 B1043.1</td>\n    </tr>\n</table>",
                        "text/plain": "[('F9 FT B1032.1',), ('F9 B4 B1040.1',), ('F9 B4 B1043.1',)]"
                    },
                    "execution_count": 63,
                    "metadata": {},
                    "output_type": "execute_result"
                }
            ],
            "source": "%sql select booster_version from spacex_dataset where landing__outcome = 'Success (ground pad)' and (payload_mass__kg_ between 4000 and 6000);"
        },
        {
            "cell_type": "markdown",
            "metadata": {},
            "source": "### Task 7\n\n##### List the total number of successful and failure mission outcomes\n"
        },
        {
            "cell_type": "code",
            "execution_count": 70,
            "metadata": {},
            "outputs": [
                {
                    "name": "stdout",
                    "output_type": "stream",
                    "text": " * ibm_db_sa://vmg68138:***@21fecfd8-47b7-4937-840d-d791d0218660.bs2io90l08kqb1od8lcg.databases.appdomain.cloud:31864/bludb\nDone.\n"
                },
                {
                    "data": {
                        "text/html": "<table>\n    <tr>\n        <th>mission_outcome</th>\n        <th>2</th>\n    </tr>\n    <tr>\n        <td>Failure (in flight)</td>\n        <td>1</td>\n    </tr>\n    <tr>\n        <td>Success</td>\n        <td>99</td>\n    </tr>\n    <tr>\n        <td>Success (payload status unclear)</td>\n        <td>1</td>\n    </tr>\n</table>",
                        "text/plain": "[('Failure (in flight)', 1),\n ('Success', 99),\n ('Success (payload status unclear)', 1)]"
                    },
                    "execution_count": 70,
                    "metadata": {},
                    "output_type": "execute_result"
                }
            ],
            "source": "%sql select mission_outcome, count(mission_outcome) from spacex_dataset group by mission_outcome;"
        },
        {
            "cell_type": "markdown",
            "metadata": {},
            "source": "### Task 8\n\n##### List the   names of the booster_versions which have carried the maximum payload mass. Use a subquery\n"
        },
        {
            "cell_type": "code",
            "execution_count": 80,
            "metadata": {},
            "outputs": [
                {
                    "name": "stdout",
                    "output_type": "stream",
                    "text": " * ibm_db_sa://vmg68138:***@21fecfd8-47b7-4937-840d-d791d0218660.bs2io90l08kqb1od8lcg.databases.appdomain.cloud:31864/bludb\nDone.\n"
                }
            ],
            "source": "res1 = %sql select booster_version, max(payload_mass__kg_) from spacex_dataset group by booster_version having booster_version in (select distinct(booster_version) from spacex_dataset);"
        },
        {
            "cell_type": "code",
            "execution_count": 105,
            "metadata": {},
            "outputs": [
                {
                    "data": {
                        "text/html": "<div>\n<style scoped>\n    .dataframe tbody tr th:only-of-type {\n        vertical-align: middle;\n    }\n\n    .dataframe tbody tr th {\n        vertical-align: top;\n    }\n\n    .dataframe thead th {\n        text-align: right;\n    }\n</style>\n<table border=\"1\" class=\"dataframe\">\n  <thead>\n    <tr style=\"text-align: right;\">\n      <th></th>\n      <th>booster_version</th>\n      <th>2</th>\n    </tr>\n  </thead>\n  <tbody>\n    <tr>\n      <th>0</th>\n      <td>F9 B4  B1039.2</td>\n      <td>2647</td>\n    </tr>\n    <tr>\n      <th>1</th>\n      <td>F9 B4  B1040.2</td>\n      <td>5384</td>\n    </tr>\n    <tr>\n      <th>2</th>\n      <td>F9 B4  B1041.2</td>\n      <td>9600</td>\n    </tr>\n    <tr>\n      <th>3</th>\n      <td>F9 B4  B1043.2</td>\n      <td>6460</td>\n    </tr>\n    <tr>\n      <th>4</th>\n      <td>F9 B4 B1039.1</td>\n      <td>3310</td>\n    </tr>\n    <tr>\n      <th>...</th>\n      <td>...</td>\n      <td>...</td>\n    </tr>\n    <tr>\n      <th>92</th>\n      <td>F9 v1.1 B1014</td>\n      <td>4159</td>\n    </tr>\n    <tr>\n      <th>93</th>\n      <td>F9 v1.1 B1015</td>\n      <td>1898</td>\n    </tr>\n    <tr>\n      <th>94</th>\n      <td>F9 v1.1 B1016</td>\n      <td>4707</td>\n    </tr>\n    <tr>\n      <th>95</th>\n      <td>F9 v1.1 B1017</td>\n      <td>553</td>\n    </tr>\n    <tr>\n      <th>96</th>\n      <td>F9 v1.1 B1018</td>\n      <td>1952</td>\n    </tr>\n  </tbody>\n</table>\n<p>97 rows \u00d7 2 columns</p>\n</div>",
                        "text/plain": "   booster_version     2\n0   F9 B4  B1039.2  2647\n1   F9 B4  B1040.2  5384\n2   F9 B4  B1041.2  9600\n3   F9 B4  B1043.2  6460\n4    F9 B4 B1039.1  3310\n..             ...   ...\n92   F9 v1.1 B1014  4159\n93   F9 v1.1 B1015  1898\n94   F9 v1.1 B1016  4707\n95   F9 v1.1 B1017   553\n96   F9 v1.1 B1018  1952\n\n[97 rows x 2 columns]"
                    },
                    "execution_count": 105,
                    "metadata": {},
                    "output_type": "execute_result"
                }
            ],
            "source": "res1.DataFrame()"
        },
        {
            "cell_type": "code",
            "execution_count": 81,
            "metadata": {},
            "outputs": [
                {
                    "name": "stdout",
                    "output_type": "stream",
                    "text": " * ibm_db_sa://vmg68138:***@21fecfd8-47b7-4937-840d-d791d0218660.bs2io90l08kqb1od8lcg.databases.appdomain.cloud:31864/bludb\nDone.\n"
                }
            ],
            "source": "res2 = %sql select booster_version, max(payload_mass__kg_) from spacex_dataset group by booster_version;"
        },
        {
            "cell_type": "code",
            "execution_count": 104,
            "metadata": {},
            "outputs": [
                {
                    "data": {
                        "text/html": "<div>\n<style scoped>\n    .dataframe tbody tr th:only-of-type {\n        vertical-align: middle;\n    }\n\n    .dataframe tbody tr th {\n        vertical-align: top;\n    }\n\n    .dataframe thead th {\n        text-align: right;\n    }\n</style>\n<table border=\"1\" class=\"dataframe\">\n  <thead>\n    <tr style=\"text-align: right;\">\n      <th></th>\n      <th>booster_version</th>\n      <th>2</th>\n    </tr>\n  </thead>\n  <tbody>\n    <tr>\n      <th>0</th>\n      <td>True</td>\n      <td>True</td>\n    </tr>\n    <tr>\n      <th>1</th>\n      <td>True</td>\n      <td>True</td>\n    </tr>\n    <tr>\n      <th>2</th>\n      <td>True</td>\n      <td>True</td>\n    </tr>\n    <tr>\n      <th>3</th>\n      <td>True</td>\n      <td>True</td>\n    </tr>\n    <tr>\n      <th>4</th>\n      <td>True</td>\n      <td>True</td>\n    </tr>\n    <tr>\n      <th>...</th>\n      <td>...</td>\n      <td>...</td>\n    </tr>\n    <tr>\n      <th>92</th>\n      <td>True</td>\n      <td>True</td>\n    </tr>\n    <tr>\n      <th>93</th>\n      <td>True</td>\n      <td>True</td>\n    </tr>\n    <tr>\n      <th>94</th>\n      <td>True</td>\n      <td>True</td>\n    </tr>\n    <tr>\n      <th>95</th>\n      <td>True</td>\n      <td>True</td>\n    </tr>\n    <tr>\n      <th>96</th>\n      <td>True</td>\n      <td>True</td>\n    </tr>\n  </tbody>\n</table>\n<p>97 rows \u00d7 2 columns</p>\n</div>",
                        "text/plain": "    booster_version     2\n0              True  True\n1              True  True\n2              True  True\n3              True  True\n4              True  True\n..              ...   ...\n92             True  True\n93             True  True\n94             True  True\n95             True  True\n96             True  True\n\n[97 rows x 2 columns]"
                    },
                    "execution_count": 104,
                    "metadata": {},
                    "output_type": "execute_result"
                }
            ],
            "source": "(res1.DataFrame() == res2.DataFrame())"
        },
        {
            "cell_type": "code",
            "execution_count": 86,
            "metadata": {},
            "outputs": [
                {
                    "data": {
                        "text/html": "<div>\n<style scoped>\n    .dataframe tbody tr th:only-of-type {\n        vertical-align: middle;\n    }\n\n    .dataframe tbody tr th {\n        vertical-align: top;\n    }\n\n    .dataframe thead th {\n        text-align: right;\n    }\n</style>\n<table border=\"1\" class=\"dataframe\">\n  <thead>\n    <tr style=\"text-align: right;\">\n      <th></th>\n      <th>booster_version</th>\n      <th>2</th>\n    </tr>\n  </thead>\n  <tbody>\n    <tr>\n      <th>0</th>\n      <td>F9 B4  B1039.2</td>\n      <td>2647</td>\n    </tr>\n    <tr>\n      <th>1</th>\n      <td>F9 B4  B1040.2</td>\n      <td>5384</td>\n    </tr>\n    <tr>\n      <th>2</th>\n      <td>F9 B4  B1041.2</td>\n      <td>9600</td>\n    </tr>\n    <tr>\n      <th>3</th>\n      <td>F9 B4  B1043.2</td>\n      <td>6460</td>\n    </tr>\n    <tr>\n      <th>4</th>\n      <td>F9 B4 B1039.1</td>\n      <td>3310</td>\n    </tr>\n    <tr>\n      <th>...</th>\n      <td>...</td>\n      <td>...</td>\n    </tr>\n    <tr>\n      <th>92</th>\n      <td>F9 v1.1 B1014</td>\n      <td>4159</td>\n    </tr>\n    <tr>\n      <th>93</th>\n      <td>F9 v1.1 B1015</td>\n      <td>1898</td>\n    </tr>\n    <tr>\n      <th>94</th>\n      <td>F9 v1.1 B1016</td>\n      <td>4707</td>\n    </tr>\n    <tr>\n      <th>95</th>\n      <td>F9 v1.1 B1017</td>\n      <td>553</td>\n    </tr>\n    <tr>\n      <th>96</th>\n      <td>F9 v1.1 B1018</td>\n      <td>1952</td>\n    </tr>\n  </tbody>\n</table>\n<p>97 rows \u00d7 2 columns</p>\n</div>",
                        "text/plain": "   booster_version     2\n0   F9 B4  B1039.2  2647\n1   F9 B4  B1040.2  5384\n2   F9 B4  B1041.2  9600\n3   F9 B4  B1043.2  6460\n4    F9 B4 B1039.1  3310\n..             ...   ...\n92   F9 v1.1 B1014  4159\n93   F9 v1.1 B1015  1898\n94   F9 v1.1 B1016  4707\n95   F9 v1.1 B1017   553\n96   F9 v1.1 B1018  1952\n\n[97 rows x 2 columns]"
                    },
                    "execution_count": 86,
                    "metadata": {},
                    "output_type": "execute_result"
                }
            ],
            "source": "res2.DataFrame()"
        },
        {
            "cell_type": "markdown",
            "metadata": {},
            "source": "### Task 9\n\n##### List the records which will display the month names, succesful landing_outcomes in ground pad ,booster versions, launch_site for the months in year 2017\n"
        },
        {
            "cell_type": "code",
            "execution_count": 106,
            "metadata": {},
            "outputs": [
                {
                    "data": {
                        "text/plain": "Index(['DATE', 'time__utc_', 'booster_version', 'launch_site', 'payload',\n       'payload_mass__kg_', 'orbit', 'customer', 'mission_outcome',\n       'landing__outcome'],\n      dtype='object')"
                    },
                    "execution_count": 106,
                    "metadata": {},
                    "output_type": "execute_result"
                }
            ],
            "source": "select_df.columns"
        },
        {
            "cell_type": "code",
            "execution_count": 109,
            "metadata": {},
            "outputs": [
                {
                    "data": {
                        "text/html": "<div>\n<style scoped>\n    .dataframe tbody tr th:only-of-type {\n        vertical-align: middle;\n    }\n\n    .dataframe tbody tr th {\n        vertical-align: top;\n    }\n\n    .dataframe thead th {\n        text-align: right;\n    }\n</style>\n<table border=\"1\" class=\"dataframe\">\n  <thead>\n    <tr style=\"text-align: right;\">\n      <th></th>\n      <th>DATE</th>\n      <th>time__utc_</th>\n      <th>booster_version</th>\n      <th>launch_site</th>\n      <th>payload</th>\n      <th>payload_mass__kg_</th>\n      <th>orbit</th>\n      <th>customer</th>\n      <th>mission_outcome</th>\n      <th>landing__outcome</th>\n    </tr>\n  </thead>\n  <tbody>\n    <tr>\n      <th>0</th>\n      <td>2010-06-04</td>\n      <td>18:45:00</td>\n      <td>F9 v1.0  B0003</td>\n      <td>CCAFS LC-40</td>\n      <td>Dragon Spacecraft Qualification Unit</td>\n      <td>0</td>\n      <td>LEO</td>\n      <td>SpaceX</td>\n      <td>Success</td>\n      <td>Failure (parachute)</td>\n    </tr>\n    <tr>\n      <th>1</th>\n      <td>2010-12-08</td>\n      <td>15:43:00</td>\n      <td>F9 v1.0  B0004</td>\n      <td>CCAFS LC-40</td>\n      <td>Dragon demo flight C1, two CubeSats, barrel of...</td>\n      <td>0</td>\n      <td>LEO (ISS)</td>\n      <td>NASA (COTS) NRO</td>\n      <td>Success</td>\n      <td>Failure (parachute)</td>\n    </tr>\n    <tr>\n      <th>2</th>\n      <td>2012-05-22</td>\n      <td>07:44:00</td>\n      <td>F9 v1.0  B0005</td>\n      <td>CCAFS LC-40</td>\n      <td>Dragon demo flight C2</td>\n      <td>525</td>\n      <td>LEO (ISS)</td>\n      <td>NASA (COTS)</td>\n      <td>Success</td>\n      <td>No attempt</td>\n    </tr>\n    <tr>\n      <th>3</th>\n      <td>2012-10-08</td>\n      <td>00:35:00</td>\n      <td>F9 v1.0  B0006</td>\n      <td>CCAFS LC-40</td>\n      <td>SpaceX CRS-1</td>\n      <td>500</td>\n      <td>LEO (ISS)</td>\n      <td>NASA (CRS)</td>\n      <td>Success</td>\n      <td>No attempt</td>\n    </tr>\n    <tr>\n      <th>4</th>\n      <td>2013-03-01</td>\n      <td>15:10:00</td>\n      <td>F9 v1.0  B0007</td>\n      <td>CCAFS LC-40</td>\n      <td>SpaceX CRS-2</td>\n      <td>677</td>\n      <td>LEO (ISS)</td>\n      <td>NASA (CRS)</td>\n      <td>Success</td>\n      <td>No attempt</td>\n    </tr>\n    <tr>\n      <th>5</th>\n      <td>2013-09-29</td>\n      <td>16:00:00</td>\n      <td>F9 v1.1  B1003</td>\n      <td>VAFB SLC-4E</td>\n      <td>CASSIOPE</td>\n      <td>500</td>\n      <td>Polar LEO</td>\n      <td>MDA</td>\n      <td>Success</td>\n      <td>Uncontrolled (ocean)</td>\n    </tr>\n    <tr>\n      <th>6</th>\n      <td>2013-12-03</td>\n      <td>22:41:00</td>\n      <td>F9 v1.1</td>\n      <td>CCAFS LC-40</td>\n      <td>SES-8</td>\n      <td>3170</td>\n      <td>GTO</td>\n      <td>SES</td>\n      <td>Success</td>\n      <td>No attempt</td>\n    </tr>\n    <tr>\n      <th>7</th>\n      <td>2014-01-06</td>\n      <td>22:06:00</td>\n      <td>F9 v1.1</td>\n      <td>CCAFS LC-40</td>\n      <td>Thaicom 6</td>\n      <td>3325</td>\n      <td>GTO</td>\n      <td>Thaicom</td>\n      <td>Success</td>\n      <td>No attempt</td>\n    </tr>\n    <tr>\n      <th>8</th>\n      <td>2014-04-18</td>\n      <td>19:25:00</td>\n      <td>F9 v1.1</td>\n      <td>CCAFS LC-40</td>\n      <td>SpaceX CRS-3</td>\n      <td>2296</td>\n      <td>LEO (ISS)</td>\n      <td>NASA (CRS)</td>\n      <td>Success</td>\n      <td>Controlled (ocean)</td>\n    </tr>\n    <tr>\n      <th>9</th>\n      <td>2014-07-14</td>\n      <td>15:15:00</td>\n      <td>F9 v1.1</td>\n      <td>CCAFS LC-40</td>\n      <td>OG2 Mission 1  6 Orbcomm-OG2 satellites</td>\n      <td>1316</td>\n      <td>LEO</td>\n      <td>Orbcomm</td>\n      <td>Success</td>\n      <td>Controlled (ocean)</td>\n    </tr>\n  </tbody>\n</table>\n</div>",
                        "text/plain": "         DATE time__utc_ booster_version  launch_site  \\\n0  2010-06-04   18:45:00  F9 v1.0  B0003  CCAFS LC-40   \n1  2010-12-08   15:43:00  F9 v1.0  B0004  CCAFS LC-40   \n2  2012-05-22   07:44:00  F9 v1.0  B0005  CCAFS LC-40   \n3  2012-10-08   00:35:00  F9 v1.0  B0006  CCAFS LC-40   \n4  2013-03-01   15:10:00  F9 v1.0  B0007  CCAFS LC-40   \n5  2013-09-29   16:00:00  F9 v1.1  B1003  VAFB SLC-4E   \n6  2013-12-03   22:41:00         F9 v1.1  CCAFS LC-40   \n7  2014-01-06   22:06:00         F9 v1.1  CCAFS LC-40   \n8  2014-04-18   19:25:00         F9 v1.1  CCAFS LC-40   \n9  2014-07-14   15:15:00         F9 v1.1  CCAFS LC-40   \n\n                                             payload  payload_mass__kg_  \\\n0               Dragon Spacecraft Qualification Unit                  0   \n1  Dragon demo flight C1, two CubeSats, barrel of...                  0   \n2                              Dragon demo flight C2                525   \n3                                       SpaceX CRS-1                500   \n4                                       SpaceX CRS-2                677   \n5                                           CASSIOPE                500   \n6                                              SES-8               3170   \n7                                          Thaicom 6               3325   \n8                                       SpaceX CRS-3               2296   \n9            OG2 Mission 1  6 Orbcomm-OG2 satellites               1316   \n\n       orbit         customer mission_outcome      landing__outcome  \n0        LEO           SpaceX         Success   Failure (parachute)  \n1  LEO (ISS)  NASA (COTS) NRO         Success   Failure (parachute)  \n2  LEO (ISS)      NASA (COTS)         Success            No attempt  \n3  LEO (ISS)       NASA (CRS)         Success            No attempt  \n4  LEO (ISS)       NASA (CRS)         Success            No attempt  \n5  Polar LEO              MDA         Success  Uncontrolled (ocean)  \n6        GTO              SES         Success            No attempt  \n7        GTO          Thaicom         Success            No attempt  \n8  LEO (ISS)       NASA (CRS)         Success    Controlled (ocean)  \n9        LEO          Orbcomm         Success    Controlled (ocean)  "
                    },
                    "execution_count": 109,
                    "metadata": {},
                    "output_type": "execute_result"
                }
            ],
            "source": "select_df.head(10)"
        },
        {
            "cell_type": "code",
            "execution_count": 114,
            "metadata": {},
            "outputs": [
                {
                    "name": "stdout",
                    "output_type": "stream",
                    "text": " * ibm_db_sa://vmg68138:***@21fecfd8-47b7-4937-840d-d791d0218660.bs2io90l08kqb1od8lcg.databases.appdomain.cloud:31864/bludb\nDone.\n"
                },
                {
                    "data": {
                        "text/html": "<table>\n    <tr>\n        <th>1</th>\n        <th>landing__outcome</th>\n    </tr>\n    <tr>\n        <td>June</td>\n        <td>Failure (parachute)</td>\n    </tr>\n    <tr>\n        <td>December</td>\n        <td>Failure (parachute)</td>\n    </tr>\n    <tr>\n        <td>May</td>\n        <td>No attempt</td>\n    </tr>\n    <tr>\n        <td>October</td>\n        <td>No attempt</td>\n    </tr>\n    <tr>\n        <td>March</td>\n        <td>No attempt</td>\n    </tr>\n    <tr>\n        <td>September</td>\n        <td>Uncontrolled (ocean)</td>\n    </tr>\n    <tr>\n        <td>December</td>\n        <td>No attempt</td>\n    </tr>\n    <tr>\n        <td>January</td>\n        <td>No attempt</td>\n    </tr>\n    <tr>\n        <td>April</td>\n        <td>Controlled (ocean)</td>\n    </tr>\n    <tr>\n        <td>July</td>\n        <td>Controlled (ocean)</td>\n    </tr>\n</table>",
                        "text/plain": "[('June', 'Failure (parachute)'),\n ('December', 'Failure (parachute)'),\n ('May', 'No attempt'),\n ('October', 'No attempt'),\n ('March', 'No attempt'),\n ('September', 'Uncontrolled (ocean)'),\n ('December', 'No attempt'),\n ('January', 'No attempt'),\n ('April', 'Controlled (ocean)'),\n ('July', 'Controlled (ocean)')]"
                    },
                    "execution_count": 114,
                    "metadata": {},
                    "output_type": "execute_result"
                }
            ],
            "source": "%sql select monthname(Date) , landing__outcome from spacex_dataset limit 10;"
        },
        {
            "cell_type": "code",
            "execution_count": 113,
            "metadata": {},
            "outputs": [
                {
                    "name": "stdout",
                    "output_type": "stream",
                    "text": " * ibm_db_sa://vmg68138:***@21fecfd8-47b7-4937-840d-d791d0218660.bs2io90l08kqb1od8lcg.databases.appdomain.cloud:31864/bludb\nDone.\n"
                },
                {
                    "data": {
                        "text/html": "<table>\n    <tr>\n        <th>MONTH</th>\n        <th>landing__outcome</th>\n        <th>booster_version</th>\n        <th>launch_site</th>\n    </tr>\n    <tr>\n        <td>February</td>\n        <td>Success (ground pad)</td>\n        <td>F9 FT B1031.1</td>\n        <td>KSC LC-39A</td>\n    </tr>\n    <tr>\n        <td>May</td>\n        <td>Success (ground pad)</td>\n        <td>F9 FT B1032.1</td>\n        <td>KSC LC-39A</td>\n    </tr>\n    <tr>\n        <td>June</td>\n        <td>Success (ground pad)</td>\n        <td>F9 FT B1035.1</td>\n        <td>KSC LC-39A</td>\n    </tr>\n    <tr>\n        <td>August</td>\n        <td>Success (ground pad)</td>\n        <td>F9 B4 B1039.1</td>\n        <td>KSC LC-39A</td>\n    </tr>\n    <tr>\n        <td>September</td>\n        <td>Success (ground pad)</td>\n        <td>F9 B4 B1040.1</td>\n        <td>KSC LC-39A</td>\n    </tr>\n    <tr>\n        <td>December</td>\n        <td>Success (ground pad)</td>\n        <td>F9 FT  B1035.2</td>\n        <td>CCAFS SLC-40</td>\n    </tr>\n</table>",
                        "text/plain": "[('February', 'Success (ground pad)', 'F9 FT B1031.1', 'KSC LC-39A'),\n ('May', 'Success (ground pad)', 'F9 FT B1032.1', 'KSC LC-39A'),\n ('June', 'Success (ground pad)', 'F9 FT B1035.1', 'KSC LC-39A'),\n ('August', 'Success (ground pad)', 'F9 B4 B1039.1', 'KSC LC-39A'),\n ('September', 'Success (ground pad)', 'F9 B4 B1040.1', 'KSC LC-39A'),\n ('December', 'Success (ground pad)', 'F9 FT  B1035.2', 'CCAFS SLC-40')]"
                    },
                    "execution_count": 113,
                    "metadata": {},
                    "output_type": "execute_result"
                }
            ],
            "source": "%sql select monthname(Date) as Month, landing__outcome, booster_version,launch_site from spacex_dataset where landing__outcome = 'Success (ground pad)' and year(Date) = '2017';"
        },
        {
            "cell_type": "markdown",
            "metadata": {},
            "source": "### Task 10\n\n##### Rank the  count of  successful landing_outcomes between the date 2010-06-04 and 2017-03-20 in descending order.\n"
        },
        {
            "cell_type": "code",
            "execution_count": 134,
            "metadata": {
                "scrolled": false
            },
            "outputs": [
                {
                    "name": "stdout",
                    "output_type": "stream",
                    "text": " * ibm_db_sa://vmg68138:***@21fecfd8-47b7-4937-840d-d791d0218660.bs2io90l08kqb1od8lcg.databases.appdomain.cloud:31864/bludb\nDone.\n"
                },
                {
                    "data": {
                        "text/html": "<table>\n    <tr>\n        <th>DATE</th>\n        <th>time__utc_</th>\n        <th>booster_version</th>\n        <th>launch_site</th>\n        <th>payload</th>\n        <th>payload_mass__kg_</th>\n        <th>orbit</th>\n        <th>customer</th>\n        <th>mission_outcome</th>\n        <th>landing__outcome</th>\n    </tr>\n    <tr>\n        <td>2015-12-22</td>\n        <td>01:29:00</td>\n        <td>F9 FT B1019</td>\n        <td>CCAFS LC-40</td>\n        <td>OG2 Mission 2  11 Orbcomm-OG2 satellites</td>\n        <td>2034</td>\n        <td>LEO</td>\n        <td>Orbcomm</td>\n        <td>Success</td>\n        <td>Success (ground pad)</td>\n    </tr>\n    <tr>\n        <td>2016-04-08</td>\n        <td>20:43:00</td>\n        <td>F9 FT B1021.1</td>\n        <td>CCAFS LC-40</td>\n        <td>SpaceX CRS-8</td>\n        <td>3136</td>\n        <td>LEO (ISS)</td>\n        <td>NASA (CRS)</td>\n        <td>Success</td>\n        <td>Success (drone ship)</td>\n    </tr>\n    <tr>\n        <td>2016-05-06</td>\n        <td>05:21:00</td>\n        <td>F9 FT B1022</td>\n        <td>CCAFS LC-40</td>\n        <td>JCSAT-14</td>\n        <td>4696</td>\n        <td>GTO</td>\n        <td>SKY Perfect JSAT Group</td>\n        <td>Success</td>\n        <td>Success (drone ship)</td>\n    </tr>\n    <tr>\n        <td>2016-05-27</td>\n        <td>21:39:00</td>\n        <td>F9 FT B1023.1</td>\n        <td>CCAFS LC-40</td>\n        <td>Thaicom 8</td>\n        <td>3100</td>\n        <td>GTO</td>\n        <td>Thaicom</td>\n        <td>Success</td>\n        <td>Success (drone ship)</td>\n    </tr>\n    <tr>\n        <td>2016-07-18</td>\n        <td>04:45:00</td>\n        <td>F9 FT B1025.1</td>\n        <td>CCAFS LC-40</td>\n        <td>SpaceX CRS-9</td>\n        <td>2257</td>\n        <td>LEO (ISS)</td>\n        <td>NASA (CRS)</td>\n        <td>Success</td>\n        <td>Success (ground pad)</td>\n    </tr>\n    <tr>\n        <td>2016-08-14</td>\n        <td>05:26:00</td>\n        <td>F9 FT B1026</td>\n        <td>CCAFS LC-40</td>\n        <td>JCSAT-16</td>\n        <td>4600</td>\n        <td>GTO</td>\n        <td>SKY Perfect JSAT Group</td>\n        <td>Success</td>\n        <td>Success (drone ship)</td>\n    </tr>\n    <tr>\n        <td>2017-01-14</td>\n        <td>17:54:00</td>\n        <td>F9 FT B1029.1</td>\n        <td>VAFB SLC-4E</td>\n        <td>Iridium NEXT 1</td>\n        <td>9600</td>\n        <td>Polar LEO</td>\n        <td>Iridium Communications</td>\n        <td>Success</td>\n        <td>Success (drone ship)</td>\n    </tr>\n    <tr>\n        <td>2017-02-19</td>\n        <td>14:39:00</td>\n        <td>F9 FT B1031.1</td>\n        <td>KSC LC-39A</td>\n        <td>SpaceX CRS-10</td>\n        <td>2490</td>\n        <td>LEO (ISS)</td>\n        <td>NASA (CRS)</td>\n        <td>Success</td>\n        <td>Success (ground pad)</td>\n    </tr>\n</table>",
                        "text/plain": "[(datetime.date(2015, 12, 22), datetime.time(1, 29), 'F9 FT B1019', 'CCAFS LC-40', 'OG2 Mission 2  11 Orbcomm-OG2 satellites', 2034, 'LEO', 'Orbcomm', 'Success', 'Success (ground pad)'),\n (datetime.date(2016, 4, 8), datetime.time(20, 43), 'F9 FT B1021.1', 'CCAFS LC-40', 'SpaceX CRS-8', 3136, 'LEO (ISS)', 'NASA (CRS)', 'Success', 'Success (drone ship)'),\n (datetime.date(2016, 5, 6), datetime.time(5, 21), 'F9 FT B1022', 'CCAFS LC-40', 'JCSAT-14', 4696, 'GTO', 'SKY Perfect JSAT Group', 'Success', 'Success (drone ship)'),\n (datetime.date(2016, 5, 27), datetime.time(21, 39), 'F9 FT B1023.1', 'CCAFS LC-40', 'Thaicom 8', 3100, 'GTO', 'Thaicom', 'Success', 'Success (drone ship)'),\n (datetime.date(2016, 7, 18), datetime.time(4, 45), 'F9 FT B1025.1', 'CCAFS LC-40', 'SpaceX CRS-9', 2257, 'LEO (ISS)', 'NASA (CRS)', 'Success', 'Success (ground pad)'),\n (datetime.date(2016, 8, 14), datetime.time(5, 26), 'F9 FT B1026', 'CCAFS LC-40', 'JCSAT-16', 4600, 'GTO', 'SKY Perfect JSAT Group', 'Success', 'Success (drone ship)'),\n (datetime.date(2017, 1, 14), datetime.time(17, 54), 'F9 FT B1029.1', 'VAFB SLC-4E', 'Iridium NEXT 1', 9600, 'Polar LEO', 'Iridium Communications', 'Success', 'Success (drone ship)'),\n (datetime.date(2017, 2, 19), datetime.time(14, 39), 'F9 FT B1031.1', 'KSC LC-39A', 'SpaceX CRS-10', 2490, 'LEO (ISS)', 'NASA (CRS)', 'Success', 'Success (ground pad)')]"
                    },
                    "execution_count": 134,
                    "metadata": {},
                    "output_type": "execute_result"
                }
            ],
            "source": "%sql select * from spacex_dataset where landing__outcome like 'Success%' and (date between '2010-06-04' and '2017-03-20');"
        },
        {
            "cell_type": "markdown",
            "metadata": {},
            "source": "### Reference Links\n\n*   <a href =\"https://cf-courses-data.s3.us.cloud-object-storage.appdomain.cloud/IBMDeveloperSkillsNetwork-DB0201EN-SkillsNetwork/labs/Module%203/LAB-String_Patterns_Sorting_Grouping.md.html?utm_medium=Exinfluencer&utm_source=Exinfluencer&utm_content=000026UJ&utm_term=10006555&utm_id=NA-SkillsNetwork-Channel-SkillsNetworkCoursesIBMDS0321ENSkillsNetwork26802033-2021-01-01\">Hands-on Lab : String Patterns, Sorting and Grouping</a>\n\n*   <a  href=\"https://cf-courses-data.s3.us.cloud-object-storage.appdomain.cloud/IBMDeveloperSkillsNetwork-DB0201EN-SkillsNetwork/labs/Labs_Coursera_V5/labs/Lab%20-%20Built-in%20functions%20/Hands-on_Lab__Built-in_Functions.md.html?utm_medium=Exinfluencer&utm_source=Exinfluencer&utm_content=000026UJ&utm_term=10006555&utm_id=NA-SkillsNetwork-Channel-SkillsNetworkCoursesIBMDS0321ENSkillsNetwork26802033-2021-01-01\">Hands-on Lab: Built-in functions</a>\n\n*   <a  href=\"https://cf-courses-data.s3.us.cloud-object-storage.appdomain.cloud/IBMDeveloperSkillsNetwork-DB0201EN-SkillsNetwork/labs/Labs_Coursera_V5/labs/Lab%20-%20Sub-queries%20and%20Nested%20SELECTs%20/instructional-labs.md.html?utm_medium=Exinfluencer&utm_source=Exinfluencer&utm_content=000026UJ&utm_term=10006555&utm_id=NA-SkillsNetwork-Channel-SkillsNetworkCoursesIBMDS0321ENSkillsNetwork26802033-2021-01-01\">Hands-on Lab : Sub-queries and Nested SELECT Statements</a>\n\n*   <a href=\"https://cf-courses-data.s3.us.cloud-object-storage.appdomain.cloud/IBMDeveloperSkillsNetwork-DB0201EN-SkillsNetwork/labs/Module%205/DB0201EN-Week3-1-3-SQLmagic.ipynb?utm_medium=Exinfluencer&utm_source=Exinfluencer&utm_content=000026UJ&utm_term=10006555&utm_id=NA-SkillsNetwork-Channel-SkillsNetworkCoursesIBMDS0321ENSkillsNetwork26802033-2021-01-01\">Hands-on Tutorial: Accessing Databases with SQL magic</a>\n\n*   <a href= \"https://cf-courses-data.s3.us.cloud-object-storage.appdomain.cloud/IBMDeveloperSkillsNetwork-DB0201EN-SkillsNetwork/labs/Module%205/DB0201EN-Week3-1-4-Analyzing.ipynb?utm_medium=Exinfluencer&utm_source=Exinfluencer&utm_content=000026UJ&utm_term=10006555&utm_id=NA-SkillsNetwork-Channel-SkillsNetworkCoursesIBMDS0321ENSkillsNetwork26802033-2021-01-01\">Hands-on Lab: Analyzing a real World Data Set</a>\n"
        },
        {
            "cell_type": "markdown",
            "metadata": {},
            "source": "## Author(s)\n\n<h4> Lakshmi Holla </h4>\n"
        },
        {
            "cell_type": "markdown",
            "metadata": {},
            "source": "## Other Contributors\n\n<h4> Rav Ahuja </h4>\n"
        },
        {
            "cell_type": "markdown",
            "metadata": {},
            "source": "## Change log\n\n| Date       | Version | Changed by    | Change Description        |\n| ---------- | ------- | ------------- | ------------------------- |\n| 2021-10-12 | 0.4     | Lakshmi Holla | Changed markdown          |\n| 2021-08-24 | 0.3     | Lakshmi Holla | Added library update      |\n| 2021-07-09 | 0.2     | Lakshmi Holla | Changes made in magic sql |\n| 2021-05-20 | 0.1     | Lakshmi Holla | Created Initial Version   |\n"
        },
        {
            "cell_type": "markdown",
            "metadata": {},
            "source": "## <h3 align=\"center\"> \u00a9 IBM Corporation 2021. All rights reserved. <h3/>\n"
        }
    ],
    "metadata": {
        "kernelspec": {
            "display_name": "Python 3.7",
            "language": "python",
            "name": "python3"
        },
        "language_info": {
            "codemirror_mode": {
                "name": "ipython",
                "version": 3
            },
            "file_extension": ".py",
            "mimetype": "text/x-python",
            "name": "python",
            "nbconvert_exporter": "python",
            "pygments_lexer": "ipython3",
            "version": "3.7.11"
        }
    },
    "nbformat": 4,
    "nbformat_minor": 4
}